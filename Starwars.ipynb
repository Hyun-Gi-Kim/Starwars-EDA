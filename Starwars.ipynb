{
 "cells": [
  {
   "cell_type": "markdown",
   "id": "a97dc9f4",
   "metadata": {},
   "source": [
    "# Starwars\n",
    "## 1. Look around the data"
   ]
  },
  {
   "cell_type": "code",
   "execution_count": 39,
   "id": "4dfcc539",
   "metadata": {},
   "outputs": [],
   "source": [
    "import math\n",
    "import numpy as np\n",
    "import pandas as pd\n",
    "import seaborn as sns\n",
    "import matplotlib.pyplot as plt\n",
    "\n",
    "plt.style.use('seaborn')\n",
    "sns.set(font_scale = 1)\n",
    "\n",
    "import warnings\n",
    "warnings.simplefilter(action = 'ignore', category=FutureWarning)"
   ]
  },
  {
   "cell_type": "code",
   "execution_count": 40,
   "id": "0f0f62e4",
   "metadata": {},
   "outputs": [],
   "source": [
    "sw = pd.read_csv('Starwars.csv')"
   ]
  },
  {
   "cell_type": "code",
   "execution_count": 41,
   "id": "39d1469d",
   "metadata": {},
   "outputs": [
    {
     "data": {
      "text/html": [
       "<div>\n",
       "<style scoped>\n",
       "    .dataframe tbody tr th:only-of-type {\n",
       "        vertical-align: middle;\n",
       "    }\n",
       "\n",
       "    .dataframe tbody tr th {\n",
       "        vertical-align: top;\n",
       "    }\n",
       "\n",
       "    .dataframe thead th {\n",
       "        text-align: right;\n",
       "    }\n",
       "</style>\n",
       "<table border=\"1\" class=\"dataframe\">\n",
       "  <thead>\n",
       "    <tr style=\"text-align: right;\">\n",
       "      <th></th>\n",
       "      <th>name</th>\n",
       "      <th>height</th>\n",
       "      <th>mass</th>\n",
       "      <th>hair_color</th>\n",
       "      <th>skin_color</th>\n",
       "      <th>eye_color</th>\n",
       "      <th>birth_year</th>\n",
       "      <th>sex</th>\n",
       "      <th>gender</th>\n",
       "      <th>homeworld</th>\n",
       "      <th>species</th>\n",
       "    </tr>\n",
       "  </thead>\n",
       "  <tbody>\n",
       "    <tr>\n",
       "      <th>0</th>\n",
       "      <td>Luke Skywalker</td>\n",
       "      <td>172.0</td>\n",
       "      <td>77.0</td>\n",
       "      <td>blond</td>\n",
       "      <td>fair</td>\n",
       "      <td>blue</td>\n",
       "      <td>19.0</td>\n",
       "      <td>male</td>\n",
       "      <td>masculine</td>\n",
       "      <td>Tatooine</td>\n",
       "      <td>Human</td>\n",
       "    </tr>\n",
       "    <tr>\n",
       "      <th>1</th>\n",
       "      <td>C-3PO</td>\n",
       "      <td>167.0</td>\n",
       "      <td>75.0</td>\n",
       "      <td>NaN</td>\n",
       "      <td>gold</td>\n",
       "      <td>yellow</td>\n",
       "      <td>112.0</td>\n",
       "      <td>none</td>\n",
       "      <td>masculine</td>\n",
       "      <td>Tatooine</td>\n",
       "      <td>Droid</td>\n",
       "    </tr>\n",
       "    <tr>\n",
       "      <th>2</th>\n",
       "      <td>R2-D2</td>\n",
       "      <td>96.0</td>\n",
       "      <td>32.0</td>\n",
       "      <td>NaN</td>\n",
       "      <td>white, blue</td>\n",
       "      <td>red</td>\n",
       "      <td>33.0</td>\n",
       "      <td>none</td>\n",
       "      <td>masculine</td>\n",
       "      <td>Naboo</td>\n",
       "      <td>Droid</td>\n",
       "    </tr>\n",
       "    <tr>\n",
       "      <th>3</th>\n",
       "      <td>Darth Vader</td>\n",
       "      <td>202.0</td>\n",
       "      <td>136.0</td>\n",
       "      <td>none</td>\n",
       "      <td>white</td>\n",
       "      <td>yellow</td>\n",
       "      <td>41.9</td>\n",
       "      <td>male</td>\n",
       "      <td>masculine</td>\n",
       "      <td>Tatooine</td>\n",
       "      <td>Human</td>\n",
       "    </tr>\n",
       "    <tr>\n",
       "      <th>4</th>\n",
       "      <td>Leia Organa</td>\n",
       "      <td>150.0</td>\n",
       "      <td>49.0</td>\n",
       "      <td>brown</td>\n",
       "      <td>light</td>\n",
       "      <td>brown</td>\n",
       "      <td>19.0</td>\n",
       "      <td>female</td>\n",
       "      <td>feminine</td>\n",
       "      <td>Alderaan</td>\n",
       "      <td>Human</td>\n",
       "    </tr>\n",
       "  </tbody>\n",
       "</table>\n",
       "</div>"
      ],
      "text/plain": [
       "             name  height   mass hair_color   skin_color eye_color  \\\n",
       "0  Luke Skywalker   172.0   77.0      blond         fair      blue   \n",
       "1           C-3PO   167.0   75.0        NaN         gold    yellow   \n",
       "2           R2-D2    96.0   32.0        NaN  white, blue       red   \n",
       "3     Darth Vader   202.0  136.0       none        white    yellow   \n",
       "4     Leia Organa   150.0   49.0      brown        light     brown   \n",
       "\n",
       "   birth_year     sex     gender homeworld species  \n",
       "0        19.0    male  masculine  Tatooine   Human  \n",
       "1       112.0    none  masculine  Tatooine   Droid  \n",
       "2        33.0    none  masculine     Naboo   Droid  \n",
       "3        41.9    male  masculine  Tatooine   Human  \n",
       "4        19.0  female   feminine  Alderaan   Human  "
      ]
     },
     "execution_count": 41,
     "metadata": {},
     "output_type": "execute_result"
    }
   ],
   "source": [
    "sw.head(5)"
   ]
  },
  {
   "cell_type": "code",
   "execution_count": 42,
   "id": "77cd5006",
   "metadata": {},
   "outputs": [
    {
     "name": "stdout",
     "output_type": "stream",
     "text": [
      "<class 'pandas.core.frame.DataFrame'>\n",
      "RangeIndex: 87 entries, 0 to 86\n",
      "Data columns (total 11 columns):\n",
      " #   Column      Non-Null Count  Dtype  \n",
      "---  ------      --------------  -----  \n",
      " 0   name        87 non-null     object \n",
      " 1   height      81 non-null     float64\n",
      " 2   mass        59 non-null     float64\n",
      " 3   hair_color  82 non-null     object \n",
      " 4   skin_color  87 non-null     object \n",
      " 5   eye_color   87 non-null     object \n",
      " 6   birth_year  43 non-null     float64\n",
      " 7   sex         83 non-null     object \n",
      " 8   gender      83 non-null     object \n",
      " 9   homeworld   77 non-null     object \n",
      " 10  species     83 non-null     object \n",
      "dtypes: float64(3), object(8)\n",
      "memory usage: 7.6+ KB\n"
     ]
    }
   ],
   "source": [
    "sw.info()"
   ]
  },
  {
   "cell_type": "code",
   "execution_count": 43,
   "id": "37519686",
   "metadata": {},
   "outputs": [
    {
     "data": {
      "text/html": [
       "<div>\n",
       "<style scoped>\n",
       "    .dataframe tbody tr th:only-of-type {\n",
       "        vertical-align: middle;\n",
       "    }\n",
       "\n",
       "    .dataframe tbody tr th {\n",
       "        vertical-align: top;\n",
       "    }\n",
       "\n",
       "    .dataframe thead th {\n",
       "        text-align: right;\n",
       "    }\n",
       "</style>\n",
       "<table border=\"1\" class=\"dataframe\">\n",
       "  <thead>\n",
       "    <tr style=\"text-align: right;\">\n",
       "      <th></th>\n",
       "      <th>height</th>\n",
       "      <th>mass</th>\n",
       "      <th>birth_year</th>\n",
       "    </tr>\n",
       "  </thead>\n",
       "  <tbody>\n",
       "    <tr>\n",
       "      <th>count</th>\n",
       "      <td>81.000000</td>\n",
       "      <td>59.000000</td>\n",
       "      <td>43.000000</td>\n",
       "    </tr>\n",
       "    <tr>\n",
       "      <th>mean</th>\n",
       "      <td>174.358025</td>\n",
       "      <td>97.311864</td>\n",
       "      <td>87.565116</td>\n",
       "    </tr>\n",
       "    <tr>\n",
       "      <th>std</th>\n",
       "      <td>34.770429</td>\n",
       "      <td>169.457163</td>\n",
       "      <td>154.691439</td>\n",
       "    </tr>\n",
       "    <tr>\n",
       "      <th>min</th>\n",
       "      <td>66.000000</td>\n",
       "      <td>15.000000</td>\n",
       "      <td>8.000000</td>\n",
       "    </tr>\n",
       "    <tr>\n",
       "      <th>25%</th>\n",
       "      <td>167.000000</td>\n",
       "      <td>55.600000</td>\n",
       "      <td>35.000000</td>\n",
       "    </tr>\n",
       "    <tr>\n",
       "      <th>50%</th>\n",
       "      <td>180.000000</td>\n",
       "      <td>79.000000</td>\n",
       "      <td>52.000000</td>\n",
       "    </tr>\n",
       "    <tr>\n",
       "      <th>75%</th>\n",
       "      <td>191.000000</td>\n",
       "      <td>84.500000</td>\n",
       "      <td>72.000000</td>\n",
       "    </tr>\n",
       "    <tr>\n",
       "      <th>max</th>\n",
       "      <td>264.000000</td>\n",
       "      <td>1358.000000</td>\n",
       "      <td>896.000000</td>\n",
       "    </tr>\n",
       "  </tbody>\n",
       "</table>\n",
       "</div>"
      ],
      "text/plain": [
       "           height         mass  birth_year\n",
       "count   81.000000    59.000000   43.000000\n",
       "mean   174.358025    97.311864   87.565116\n",
       "std     34.770429   169.457163  154.691439\n",
       "min     66.000000    15.000000    8.000000\n",
       "25%    167.000000    55.600000   35.000000\n",
       "50%    180.000000    79.000000   52.000000\n",
       "75%    191.000000    84.500000   72.000000\n",
       "max    264.000000  1358.000000  896.000000"
      ]
     },
     "execution_count": 43,
     "metadata": {},
     "output_type": "execute_result"
    }
   ],
   "source": [
    "sw.describe()"
   ]
  },
  {
   "cell_type": "code",
   "execution_count": 44,
   "id": "56716d6d",
   "metadata": {},
   "outputs": [
    {
     "data": {
      "text/html": [
       "<div>\n",
       "<style scoped>\n",
       "    .dataframe tbody tr th:only-of-type {\n",
       "        vertical-align: middle;\n",
       "    }\n",
       "\n",
       "    .dataframe tbody tr th {\n",
       "        vertical-align: top;\n",
       "    }\n",
       "\n",
       "    .dataframe thead th {\n",
       "        text-align: right;\n",
       "    }\n",
       "</style>\n",
       "<table border=\"1\" class=\"dataframe\">\n",
       "  <thead>\n",
       "    <tr style=\"text-align: right;\">\n",
       "      <th></th>\n",
       "      <th>name</th>\n",
       "      <th>hair_color</th>\n",
       "      <th>skin_color</th>\n",
       "      <th>eye_color</th>\n",
       "      <th>sex</th>\n",
       "      <th>gender</th>\n",
       "      <th>homeworld</th>\n",
       "      <th>species</th>\n",
       "    </tr>\n",
       "  </thead>\n",
       "  <tbody>\n",
       "    <tr>\n",
       "      <th>count</th>\n",
       "      <td>87</td>\n",
       "      <td>82</td>\n",
       "      <td>87</td>\n",
       "      <td>87</td>\n",
       "      <td>83</td>\n",
       "      <td>83</td>\n",
       "      <td>77</td>\n",
       "      <td>83</td>\n",
       "    </tr>\n",
       "    <tr>\n",
       "      <th>unique</th>\n",
       "      <td>87</td>\n",
       "      <td>12</td>\n",
       "      <td>31</td>\n",
       "      <td>15</td>\n",
       "      <td>4</td>\n",
       "      <td>2</td>\n",
       "      <td>48</td>\n",
       "      <td>37</td>\n",
       "    </tr>\n",
       "    <tr>\n",
       "      <th>top</th>\n",
       "      <td>Luke Skywalker</td>\n",
       "      <td>none</td>\n",
       "      <td>fair</td>\n",
       "      <td>brown</td>\n",
       "      <td>male</td>\n",
       "      <td>masculine</td>\n",
       "      <td>Naboo</td>\n",
       "      <td>Human</td>\n",
       "    </tr>\n",
       "    <tr>\n",
       "      <th>freq</th>\n",
       "      <td>1</td>\n",
       "      <td>37</td>\n",
       "      <td>17</td>\n",
       "      <td>21</td>\n",
       "      <td>60</td>\n",
       "      <td>66</td>\n",
       "      <td>11</td>\n",
       "      <td>35</td>\n",
       "    </tr>\n",
       "  </tbody>\n",
       "</table>\n",
       "</div>"
      ],
      "text/plain": [
       "                  name hair_color skin_color eye_color   sex     gender  \\\n",
       "count               87         82         87        87    83         83   \n",
       "unique              87         12         31        15     4          2   \n",
       "top     Luke Skywalker       none       fair     brown  male  masculine   \n",
       "freq                 1         37         17        21    60         66   \n",
       "\n",
       "       homeworld species  \n",
       "count         77      83  \n",
       "unique        48      37  \n",
       "top        Naboo   Human  \n",
       "freq          11      35  "
      ]
     },
     "execution_count": 44,
     "metadata": {},
     "output_type": "execute_result"
    }
   ],
   "source": [
    "sw.describe(include = object)"
   ]
  },
  {
   "cell_type": "code",
   "execution_count": 45,
   "id": "2aa5b7e1",
   "metadata": {},
   "outputs": [
    {
     "name": "stdout",
     "output_type": "stream",
     "text": [
      "Hair colour:  ['blond' nan 'none' 'brown' 'brown, grey' 'black' 'auburn, white'\n",
      " 'auburn, grey' 'white' 'grey' 'auburn' 'blonde' 'unknown']\n",
      "Skin colour:  ['fair' 'gold' 'white, blue' 'white' 'light' 'white, red' 'unknown'\n",
      " 'green' 'green-tan, brown' 'pale' 'metal' 'dark' 'brown mottle' 'brown'\n",
      " 'grey' 'mottled green' 'orange' 'blue, grey' 'grey, red' 'red' 'blue'\n",
      " 'grey, green, yellow' 'yellow' 'tan' 'fair, green, yellow' 'grey, blue'\n",
      " 'silver, red' 'green, grey' 'red, blue, white' 'brown, white' 'none']\n",
      "Eye colour:  ['blue' 'yellow' 'red' 'brown' 'blue-gray' 'black' 'orange' 'hazel' 'pink'\n",
      " 'unknown' 'red, blue' 'gold' 'green, yellow' 'white' 'dark']\n",
      "Sex:  ['male' 'none' 'female' 'hermaphroditic' nan]\n",
      "Gender:  ['masculine' 'feminine' nan]\n",
      "Homeworld:  ['Tatooine' 'Naboo' 'Alderaan' 'Stewjon' 'Eriadu' 'Kashyyyk' 'Corellia'\n",
      " 'Rodia' 'Nal Hutta' 'Bestine IV' nan 'Kamino' 'Trandosha' 'Socorro'\n",
      " 'Bespin' 'Mon Cala' 'Chandrila' 'Endor' 'Sullust' 'Cato Neimoidia'\n",
      " 'Coruscant' 'Toydaria' 'Malastare' 'Dathomir' 'Ryloth' 'Vulpter'\n",
      " 'Troiken' 'Tund' 'Haruun Kal' 'Cerea' 'Glee Anselm' 'Iridonia' 'Iktotch'\n",
      " 'Quermia' 'Dorin' 'Champala' 'Geonosis' 'Mirial' 'Serenno' 'Concord Dawn'\n",
      " 'Zolan' 'Ojom' 'Aleen Minor' 'Skako' 'Muunilinst' 'Shili' 'Kalee'\n",
      " 'Umbara' 'Utapau']\n",
      "Species:  ['Human' 'Droid' 'Wookiee' 'Rodian' 'Hutt' \"Yoda's species\" 'Trandoshan'\n",
      " 'Mon Calamari' 'Ewok' 'Sullustan' 'Neimodian' 'Gungan' nan 'Toydarian'\n",
      " 'Dug' 'Zabrak' \"Twi'lek\" 'Vulptereen' 'Xexto' 'Toong' 'Cerean' 'Nautolan'\n",
      " 'Tholothian' 'Iktotchi' 'Quermian' 'Kel Dor' 'Chagrian' 'Geonosian'\n",
      " 'Mirialan' 'Clawdite' 'Besalisk' 'Kaminoan' 'Aleena' 'Skakoan' 'Muun'\n",
      " 'Togruta' 'Kaleesh' \"Pau'an\"]\n"
     ]
    }
   ],
   "source": [
    "print('Hair colour: ', sw['hair_color'].unique())\n",
    "print('Skin colour: ', sw['skin_color'].unique())\n",
    "print('Eye colour: ', sw['eye_color'].unique())\n",
    "print('Sex: ', sw['sex'].unique())\n",
    "print('Gender: ', sw['gender'].unique())\n",
    "print('Homeworld: ', sw['homeworld'].unique())\n",
    "print('Species: ', sw['species'].unique())"
   ]
  },
  {
   "cell_type": "code",
   "execution_count": 109,
   "id": "6b519e0e",
   "metadata": {},
   "outputs": [
    {
     "name": "stdout",
     "output_type": "stream",
     "text": [
      "The total number of data:  957\n",
      "The total number of null values: 71 and it occupies 7.42% of the toal \n",
      "The number of people in Starwars:  87\n",
      "The number of species in Starwars:  37\n"
     ]
    }
   ],
   "source": [
    "print(\"The total number of data: \", sw.shape[0]*sw.shape[1])\n",
    "print(\"The total number of null values: {} and it occupies {:.2f}% of the toal \"\n",
    "      .format(sw.isnull().sum().sum(), (sw.isnull().sum().sum()*100)/(sw.shape[0]*sw.shape[1])))\n",
    "print(\"The number of people in Starwars: \", sw['name'].nunique())\n",
    "print(\"The number of species in Starwars: \", sw['species'].nunique())"
   ]
  },
  {
   "cell_type": "markdown",
   "id": "f102b006",
   "metadata": {},
   "source": [
    "## 2.Questions\n",
    "### *What is the ratio of 'Gender'  and 'Sex' in Starwars\n",
    "### *How is the distribution of 'Height' according to gender & sex in Starwars\n",
    "### *Who is the most heavist character and who is the most  lightest character?\n",
    "### *Does have correlation with 'Height' and 'Mass' in Starwars?\n"
   ]
  },
  {
   "cell_type": "markdown",
   "id": "3fdcdc5b",
   "metadata": {},
   "source": [
    "## 3. Data Preprocessing"
   ]
  },
  {
   "cell_type": "markdown",
   "id": "03c20b8c",
   "metadata": {},
   "source": [
    "### 3-1. Null values"
   ]
  },
  {
   "cell_type": "code",
   "execution_count": 47,
   "id": "3ac9322c",
   "metadata": {},
   "outputs": [
    {
     "data": {
      "text/plain": [
       "name          False\n",
       "height         True\n",
       "mass           True\n",
       "hair_color     True\n",
       "skin_color    False\n",
       "eye_color     False\n",
       "birth_year     True\n",
       "sex            True\n",
       "gender         True\n",
       "homeworld      True\n",
       "species        True\n",
       "dtype: bool"
      ]
     },
     "execution_count": 47,
     "metadata": {},
     "output_type": "execute_result"
    }
   ],
   "source": [
    "sw.isnull().any(axis=0)"
   ]
  },
  {
   "cell_type": "code",
   "execution_count": 48,
   "id": "c4160856",
   "metadata": {},
   "outputs": [
    {
     "data": {
      "text/plain": [
       "name           0\n",
       "height         6\n",
       "mass          28\n",
       "hair_color     5\n",
       "skin_color     0\n",
       "eye_color      0\n",
       "birth_year    44\n",
       "sex            4\n",
       "gender         4\n",
       "homeworld     10\n",
       "species        4\n",
       "dtype: int64"
      ]
     },
     "execution_count": 48,
     "metadata": {},
     "output_type": "execute_result"
    }
   ],
   "source": [
    "sw.isnull().sum()"
   ]
  },
  {
   "cell_type": "code",
   "execution_count": 49,
   "id": "a30bdddb",
   "metadata": {},
   "outputs": [
    {
     "data": {
      "text/html": [
       "<div>\n",
       "<style scoped>\n",
       "    .dataframe tbody tr th:only-of-type {\n",
       "        vertical-align: middle;\n",
       "    }\n",
       "\n",
       "    .dataframe tbody tr th {\n",
       "        vertical-align: top;\n",
       "    }\n",
       "\n",
       "    .dataframe thead th {\n",
       "        text-align: right;\n",
       "    }\n",
       "</style>\n",
       "<table border=\"1\" class=\"dataframe\">\n",
       "  <thead>\n",
       "    <tr style=\"text-align: right;\">\n",
       "      <th></th>\n",
       "      <th>name</th>\n",
       "      <th>height</th>\n",
       "      <th>mass</th>\n",
       "      <th>hair_color</th>\n",
       "      <th>skin_color</th>\n",
       "      <th>eye_color</th>\n",
       "      <th>birth_year</th>\n",
       "      <th>sex</th>\n",
       "      <th>gender</th>\n",
       "      <th>homeworld</th>\n",
       "      <th>species</th>\n",
       "    </tr>\n",
       "  </thead>\n",
       "  <tbody>\n",
       "    <tr>\n",
       "      <th>0</th>\n",
       "      <td>Luke Skywalker</td>\n",
       "      <td>172.0</td>\n",
       "      <td>77.0</td>\n",
       "      <td>blond</td>\n",
       "      <td>fair</td>\n",
       "      <td>blue</td>\n",
       "      <td>19.0</td>\n",
       "      <td>male</td>\n",
       "      <td>masculine</td>\n",
       "      <td>Tatooine</td>\n",
       "      <td>Human</td>\n",
       "    </tr>\n",
       "    <tr>\n",
       "      <th>1</th>\n",
       "      <td>C-3PO</td>\n",
       "      <td>167.0</td>\n",
       "      <td>75.0</td>\n",
       "      <td>NaN</td>\n",
       "      <td>gold</td>\n",
       "      <td>yellow</td>\n",
       "      <td>112.0</td>\n",
       "      <td>none</td>\n",
       "      <td>masculine</td>\n",
       "      <td>Tatooine</td>\n",
       "      <td>Droid</td>\n",
       "    </tr>\n",
       "    <tr>\n",
       "      <th>2</th>\n",
       "      <td>R2-D2</td>\n",
       "      <td>96.0</td>\n",
       "      <td>32.0</td>\n",
       "      <td>NaN</td>\n",
       "      <td>white, blue</td>\n",
       "      <td>red</td>\n",
       "      <td>33.0</td>\n",
       "      <td>none</td>\n",
       "      <td>masculine</td>\n",
       "      <td>Naboo</td>\n",
       "      <td>Droid</td>\n",
       "    </tr>\n",
       "    <tr>\n",
       "      <th>3</th>\n",
       "      <td>Darth Vader</td>\n",
       "      <td>202.0</td>\n",
       "      <td>136.0</td>\n",
       "      <td>none</td>\n",
       "      <td>white</td>\n",
       "      <td>yellow</td>\n",
       "      <td>41.9</td>\n",
       "      <td>male</td>\n",
       "      <td>masculine</td>\n",
       "      <td>Tatooine</td>\n",
       "      <td>Human</td>\n",
       "    </tr>\n",
       "    <tr>\n",
       "      <th>4</th>\n",
       "      <td>Leia Organa</td>\n",
       "      <td>150.0</td>\n",
       "      <td>49.0</td>\n",
       "      <td>brown</td>\n",
       "      <td>light</td>\n",
       "      <td>brown</td>\n",
       "      <td>19.0</td>\n",
       "      <td>female</td>\n",
       "      <td>feminine</td>\n",
       "      <td>Alderaan</td>\n",
       "      <td>Human</td>\n",
       "    </tr>\n",
       "  </tbody>\n",
       "</table>\n",
       "</div>"
      ],
      "text/plain": [
       "             name  height   mass hair_color   skin_color eye_color  \\\n",
       "0  Luke Skywalker   172.0   77.0      blond         fair      blue   \n",
       "1           C-3PO   167.0   75.0        NaN         gold    yellow   \n",
       "2           R2-D2    96.0   32.0        NaN  white, blue       red   \n",
       "3     Darth Vader   202.0  136.0       none        white    yellow   \n",
       "4     Leia Organa   150.0   49.0      brown        light     brown   \n",
       "\n",
       "   birth_year     sex     gender homeworld species  \n",
       "0        19.0    male  masculine  Tatooine   Human  \n",
       "1       112.0    none  masculine  Tatooine   Droid  \n",
       "2        33.0    none  masculine     Naboo   Droid  \n",
       "3        41.9    male  masculine  Tatooine   Human  \n",
       "4        19.0  female   feminine  Alderaan   Human  "
      ]
     },
     "execution_count": 49,
     "metadata": {},
     "output_type": "execute_result"
    }
   ],
   "source": [
    "sw['height'].fillna(0, inplace = True)\n",
    "sw['mass'].fillna(0, inplace = True)\n",
    "sw.head()"
   ]
  },
  {
   "cell_type": "code",
   "execution_count": 50,
   "id": "37864a11",
   "metadata": {},
   "outputs": [
    {
     "name": "stdout",
     "output_type": "stream",
     "text": [
      "      name  height   mass hair_color   skin_color  eye_color  birth_year  \\\n",
      "1    C-3PO   167.0   75.0        NaN         gold     yellow       112.0   \n",
      "2    R2-D2    96.0   32.0        NaN  white, blue        red        33.0   \n",
      "7    R5-D4    97.0   32.0        NaN   white, red        red         NaN   \n",
      "21   IG-88   200.0  140.0       none        metal        red        15.0   \n",
      "72  R4-P17    96.0    0.0       none  silver, red  red, blue         NaN   \n",
      "84     BB8     0.0    0.0       none         none      black         NaN   \n",
      "\n",
      "     sex     gender homeworld species  \n",
      "1   none  masculine  Tatooine   Droid  \n",
      "2   none  masculine     Naboo   Droid  \n",
      "7   none  masculine  Tatooine   Droid  \n",
      "21  none  masculine       NaN   Droid  \n",
      "72  none   feminine       NaN   Droid  \n",
      "84  none  masculine       NaN   Droid  \n",
      "              name  height  mass hair_color skin_color eye_color  birth_year  \\\n",
      "36        Ric Oli?   183.0   0.0      brown       fair      blue         NaN   \n",
      "39   Quarsh Panaka   183.0   0.0      black       dark     brown        62.0   \n",
      "79       Sly Moore   178.0  48.0       none       pale     white         NaN   \n",
      "85  Captain Phasma     0.0   0.0    unknown    unknown   unknown         NaN   \n",
      "\n",
      "    sex gender homeworld species  \n",
      "36  NaN    NaN     Naboo     NaN  \n",
      "39  NaN    NaN     Naboo     NaN  \n",
      "79  NaN    NaN    Umbara     NaN  \n",
      "85  NaN    NaN       NaN     NaN  \n"
     ]
    }
   ],
   "source": [
    "# Nan & none exists in sw.['sex'] column.\n",
    "print(sw[sw['sex'] == 'none'])\n",
    "print(sw[sw['sex'].isnull()])"
   ]
  },
  {
   "cell_type": "code",
   "execution_count": 51,
   "id": "58ecc888",
   "metadata": {},
   "outputs": [
    {
     "name": "stdout",
     "output_type": "stream",
     "text": [
      "Sex:  ['male' 'robot' 'female' 'hermaphroditic' nan]\n"
     ]
    },
    {
     "name": "stderr",
     "output_type": "stream",
     "text": [
      "C:\\Users\\hyung\\AppData\\Local\\Temp\\ipykernel_10496\\150059989.py:2: SettingWithCopyWarning: \n",
      "A value is trying to be set on a copy of a slice from a DataFrame\n",
      "\n",
      "See the caveats in the documentation: https://pandas.pydata.org/pandas-docs/stable/user_guide/indexing.html#returning-a-view-versus-a-copy\n",
      "  sw['sex'][(sw['sex'] == 'none')] = 'robot'\n"
     ]
    }
   ],
   "source": [
    "#sex = none >> species = Droid, hence I changed the column\n",
    "sw['sex'][(sw['sex'] == 'none')] = 'robot'\n",
    "print('Sex: ', sw['sex'].unique())"
   ]
  },
  {
   "cell_type": "markdown",
   "id": "26ed7e1a",
   "metadata": {},
   "source": [
    "## 4. EDA & Visualization"
   ]
  },
  {
   "cell_type": "markdown",
   "id": "e112b80f",
   "metadata": {},
   "source": [
    "### 4-1.What is the ratio of  'Gender' in Starwars"
   ]
  },
  {
   "cell_type": "code",
   "execution_count": 52,
   "id": "85401133",
   "metadata": {},
   "outputs": [
    {
     "data": {
      "text/plain": [
       "male              60\n",
       "female            16\n",
       "robot              6\n",
       "hermaphroditic     1\n",
       "Name: sex, dtype: int64"
      ]
     },
     "execution_count": 52,
     "metadata": {},
     "output_type": "execute_result"
    }
   ],
   "source": [
    "# The ratio of 'Gender' and 'Sex' in Starwars\n",
    "sw['sex'].value_counts()\n"
   ]
  },
  {
   "cell_type": "code",
   "execution_count": 53,
   "id": "9639db6b",
   "metadata": {},
   "outputs": [
    {
     "data": {
      "text/plain": [
       "masculine    66\n",
       "feminine     17\n",
       "Name: gender, dtype: int64"
      ]
     },
     "execution_count": 53,
     "metadata": {},
     "output_type": "execute_result"
    }
   ],
   "source": [
    "sw['gender'].value_counts()"
   ]
  },
  {
   "cell_type": "code",
   "execution_count": 68,
   "id": "3bb857da",
   "metadata": {},
   "outputs": [
    {
     "data": {
      "image/png": "[encoded data removed]",
      "text/plain": [
       "<Figure size 1296x576 with 2 Axes>"
      ]
     },
     "metadata": {},
     "output_type": "display_data"
    }
   ],
   "source": [
    "f, ax = plt.subplots(1, 2, figsize=(18, 8))\n",
    "\n",
    "sw['gender'].value_counts().plot.pie(ax=ax[0], autopct='%1.0f%%', shadow=True)\n",
    "ax[0].set_title('Starwars: Gender', size=18)\n",
    "ax[0].set_ylabel('')\n",
    "\n",
    "sns.countplot(x='sex', data=sw, ax=ax[1])\n",
    "ax[1].set_title('Starwars: Sex', size=18)\n",
    "\n",
    "\n",
    "plt.show()"
   ]
  },
  {
   "cell_type": "markdown",
   "id": "2b86d691",
   "metadata": {},
   "source": [
    "### 4-2. The distribution of characters' height in Starwars according to 'sex' & 'gender'."
   ]
  },
  {
   "cell_type": "code",
   "execution_count": 69,
   "id": "4dac9b83",
   "metadata": {},
   "outputs": [
    {
     "data": {
      "text/plain": [
       "count     87.000000\n",
       "mean     162.333333\n",
       "std       55.671726\n",
       "min        0.000000\n",
       "25%      164.000000\n",
       "50%      178.000000\n",
       "75%      190.500000\n",
       "max      264.000000\n",
       "Name: height, dtype: float64"
      ]
     },
     "execution_count": 69,
     "metadata": {},
     "output_type": "execute_result"
    }
   ],
   "source": [
    "sw['height'].describe()"
   ]
  },
  {
   "cell_type": "code",
   "execution_count": 72,
   "id": "9ac9e229",
   "metadata": {},
   "outputs": [
    {
     "name": "stdout",
     "output_type": "stream",
     "text": [
      "Skewness: -1.760878\n",
      "Kurtosis: 2.927697\n"
     ]
    }
   ],
   "source": [
    "#skewness and kurtosis\n",
    "# In case of normal distribution, it should be -3 < skewness < 3.\n",
    "# In case of normal distribution, kurtosis = 0.\n",
    "print(\"Skewness: %f\" % sw['height'].skew())\n",
    "print(\"Kurtosis: %f\" % sw['height'].kurt())"
   ]
  },
  {
   "cell_type": "code",
   "execution_count": 75,
   "id": "c72cd959",
   "metadata": {},
   "outputs": [
    {
     "data": {
      "text/html": [
       "<div>\n",
       "<style scoped>\n",
       "    .dataframe tbody tr th:only-of-type {\n",
       "        vertical-align: middle;\n",
       "    }\n",
       "\n",
       "    .dataframe tbody tr th {\n",
       "        vertical-align: top;\n",
       "    }\n",
       "\n",
       "    .dataframe thead th {\n",
       "        text-align: right;\n",
       "    }\n",
       "</style>\n",
       "<table border=\"1\" class=\"dataframe\">\n",
       "  <thead>\n",
       "    <tr style=\"text-align: right;\">\n",
       "      <th></th>\n",
       "      <th>name</th>\n",
       "      <th>height</th>\n",
       "      <th>mass</th>\n",
       "      <th>hair_color</th>\n",
       "      <th>skin_color</th>\n",
       "      <th>eye_color</th>\n",
       "      <th>birth_year</th>\n",
       "      <th>sex</th>\n",
       "      <th>gender</th>\n",
       "      <th>homeworld</th>\n",
       "      <th>species</th>\n",
       "    </tr>\n",
       "  </thead>\n",
       "  <tbody>\n",
       "    <tr>\n",
       "      <th>15</th>\n",
       "      <td>Jabba Desilijic Tiure</td>\n",
       "      <td>175.0</td>\n",
       "      <td>1358.0</td>\n",
       "      <td>NaN</td>\n",
       "      <td>green-tan, brown</td>\n",
       "      <td>orange</td>\n",
       "      <td>600.0</td>\n",
       "      <td>hermaphroditic</td>\n",
       "      <td>masculine</td>\n",
       "      <td>Nal Hutta</td>\n",
       "      <td>Hutt</td>\n",
       "    </tr>\n",
       "  </tbody>\n",
       "</table>\n",
       "</div>"
      ],
      "text/plain": [
       "                     name  height    mass hair_color        skin_color  \\\n",
       "15  Jabba Desilijic Tiure   175.0  1358.0        NaN  green-tan, brown   \n",
       "\n",
       "   eye_color  birth_year             sex     gender  homeworld species  \n",
       "15    orange       600.0  hermaphroditic  masculine  Nal Hutta    Hutt  "
      ]
     },
     "execution_count": 75,
     "metadata": {},
     "output_type": "execute_result"
    }
   ],
   "source": [
    "sw[sw['sex'] == 'hermaphroditic'].head()"
   ]
  },
  {
   "cell_type": "code",
   "execution_count": 83,
   "id": "9362260f",
   "metadata": {},
   "outputs": [
    {
     "data": {
      "image/png": "[encoded data removed]",
      "text/plain": [
       "<Figure size 1152x360 with 2 Axes>"
      ]
     },
     "metadata": {},
     "output_type": "display_data"
    }
   ],
   "source": [
    "fig, ax = plt.subplots(1, 2, figsize=(16,5))\n",
    "\n",
    "#sns.distplot\n",
    "sns.distplot(sw[sw['sex'] == 'male']['height'], ax=ax[0])\n",
    "sns.distplot(sw[sw['sex'] == 'female']['height'], ax=ax[0])\n",
    "sns.distplot(sw[sw['sex'] == 'robot']['height'], ax=ax[0])\n",
    "ax[0].legend(['Male', 'Female', 'Robot'])\n",
    "\n",
    "#sns.kdeplot\n",
    "sns.kdeplot(sw[sw['gender'] == 'masculine']['height'], ax=ax[1])\n",
    "sns.kdeplot(sw[sw['gender'] == 'feminine']['height'], ax=ax[1])\n",
    "ax[1].legend(['Masculine', 'Feminine'])\n",
    "\n",
    "plt.show()"
   ]
  },
  {
   "cell_type": "markdown",
   "id": "1fdcc413",
   "metadata": {},
   "source": [
    "### 4-3. Who is the most heavist character and who is the most  lightest character?"
   ]
  },
  {
   "cell_type": "code",
   "execution_count": 85,
   "id": "59810050",
   "metadata": {},
   "outputs": [
    {
     "data": {
      "text/plain": [
       "15.0"
      ]
     },
     "execution_count": 85,
     "metadata": {},
     "output_type": "execute_result"
    }
   ],
   "source": [
    "notz = sw[sw['mass'] != 0]\n",
    "min(notz['mass'])"
   ]
  },
  {
   "cell_type": "code",
   "execution_count": 89,
   "id": "198fce62",
   "metadata": {},
   "outputs": [
    {
     "name": "stdout",
     "output_type": "stream",
     "text": [
      "The mass of ['Ratts Tyerell'] is the most lightest as 15.0 \n",
      "The mass of ['Jabba Desilijic Tiure'] is the most heavist as 1358.0 \n"
     ]
    }
   ],
   "source": [
    "print(\"The mass of {} is the most lightest as {} \".format(notz[notz['mass'] == min(notz['mass'])]['name'].values, min(notz['mass'])))\n",
    "print(\"The mass of {} is the most heavist as {} \".format(notz[notz['mass'] == max(notz['mass'])]['name'].values, max(notz['mass'])))"
   ]
  },
  {
   "cell_type": "markdown",
   "id": "db0624f0",
   "metadata": {},
   "source": [
    "### 4-4. The comparison of mass between species of Starwars characters."
   ]
  },
  {
   "cell_type": "code",
   "execution_count": 92,
   "id": "7ccd9dee",
   "metadata": {},
   "outputs": [
    {
     "data": {
      "text/html": [
       "<div>\n",
       "<style scoped>\n",
       "    .dataframe tbody tr th:only-of-type {\n",
       "        vertical-align: middle;\n",
       "    }\n",
       "\n",
       "    .dataframe tbody tr th {\n",
       "        vertical-align: top;\n",
       "    }\n",
       "\n",
       "    .dataframe thead th {\n",
       "        text-align: right;\n",
       "    }\n",
       "</style>\n",
       "<table border=\"1\" class=\"dataframe\">\n",
       "  <thead>\n",
       "    <tr style=\"text-align: right;\">\n",
       "      <th></th>\n",
       "      <th>mass</th>\n",
       "    </tr>\n",
       "    <tr>\n",
       "      <th>species</th>\n",
       "      <th></th>\n",
       "    </tr>\n",
       "  </thead>\n",
       "  <tbody>\n",
       "    <tr>\n",
       "      <th>Aleena</th>\n",
       "      <td>15.000000</td>\n",
       "    </tr>\n",
       "    <tr>\n",
       "      <th>Besalisk</th>\n",
       "      <td>102.000000</td>\n",
       "    </tr>\n",
       "    <tr>\n",
       "      <th>Cerean</th>\n",
       "      <td>82.000000</td>\n",
       "    </tr>\n",
       "    <tr>\n",
       "      <th>Chagrian</th>\n",
       "      <td>0.000000</td>\n",
       "    </tr>\n",
       "    <tr>\n",
       "      <th>Clawdite</th>\n",
       "      <td>55.000000</td>\n",
       "    </tr>\n",
       "    <tr>\n",
       "      <th>Droid</th>\n",
       "      <td>46.500000</td>\n",
       "    </tr>\n",
       "    <tr>\n",
       "      <th>Dug</th>\n",
       "      <td>40.000000</td>\n",
       "    </tr>\n",
       "    <tr>\n",
       "      <th>Ewok</th>\n",
       "      <td>20.000000</td>\n",
       "    </tr>\n",
       "    <tr>\n",
       "      <th>Geonosian</th>\n",
       "      <td>80.000000</td>\n",
       "    </tr>\n",
       "    <tr>\n",
       "      <th>Gungan</th>\n",
       "      <td>49.333333</td>\n",
       "    </tr>\n",
       "    <tr>\n",
       "      <th>Human</th>\n",
       "      <td>52.034286</td>\n",
       "    </tr>\n",
       "    <tr>\n",
       "      <th>Hutt</th>\n",
       "      <td>1358.000000</td>\n",
       "    </tr>\n",
       "    <tr>\n",
       "      <th>Iktotchi</th>\n",
       "      <td>0.000000</td>\n",
       "    </tr>\n",
       "    <tr>\n",
       "      <th>Kaleesh</th>\n",
       "      <td>159.000000</td>\n",
       "    </tr>\n",
       "    <tr>\n",
       "      <th>Kaminoan</th>\n",
       "      <td>44.000000</td>\n",
       "    </tr>\n",
       "    <tr>\n",
       "      <th>Kel Dor</th>\n",
       "      <td>80.000000</td>\n",
       "    </tr>\n",
       "    <tr>\n",
       "      <th>Mirialan</th>\n",
       "      <td>53.100000</td>\n",
       "    </tr>\n",
       "    <tr>\n",
       "      <th>Mon Calamari</th>\n",
       "      <td>83.000000</td>\n",
       "    </tr>\n",
       "    <tr>\n",
       "      <th>Muun</th>\n",
       "      <td>0.000000</td>\n",
       "    </tr>\n",
       "    <tr>\n",
       "      <th>Nautolan</th>\n",
       "      <td>87.000000</td>\n",
       "    </tr>\n",
       "    <tr>\n",
       "      <th>Neimodian</th>\n",
       "      <td>90.000000</td>\n",
       "    </tr>\n",
       "    <tr>\n",
       "      <th>Pau'an</th>\n",
       "      <td>80.000000</td>\n",
       "    </tr>\n",
       "    <tr>\n",
       "      <th>Quermian</th>\n",
       "      <td>0.000000</td>\n",
       "    </tr>\n",
       "    <tr>\n",
       "      <th>Rodian</th>\n",
       "      <td>74.000000</td>\n",
       "    </tr>\n",
       "    <tr>\n",
       "      <th>Skakoan</th>\n",
       "      <td>48.000000</td>\n",
       "    </tr>\n",
       "    <tr>\n",
       "      <th>Sullustan</th>\n",
       "      <td>68.000000</td>\n",
       "    </tr>\n",
       "    <tr>\n",
       "      <th>Tholothian</th>\n",
       "      <td>50.000000</td>\n",
       "    </tr>\n",
       "    <tr>\n",
       "      <th>Togruta</th>\n",
       "      <td>57.000000</td>\n",
       "    </tr>\n",
       "    <tr>\n",
       "      <th>Toong</th>\n",
       "      <td>65.000000</td>\n",
       "    </tr>\n",
       "    <tr>\n",
       "      <th>Toydarian</th>\n",
       "      <td>0.000000</td>\n",
       "    </tr>\n",
       "    <tr>\n",
       "      <th>Trandoshan</th>\n",
       "      <td>113.000000</td>\n",
       "    </tr>\n",
       "    <tr>\n",
       "      <th>Twi'lek</th>\n",
       "      <td>27.500000</td>\n",
       "    </tr>\n",
       "    <tr>\n",
       "      <th>Vulptereen</th>\n",
       "      <td>45.000000</td>\n",
       "    </tr>\n",
       "    <tr>\n",
       "      <th>Wookiee</th>\n",
       "      <td>124.000000</td>\n",
       "    </tr>\n",
       "    <tr>\n",
       "      <th>Xexto</th>\n",
       "      <td>0.000000</td>\n",
       "    </tr>\n",
       "    <tr>\n",
       "      <th>Yoda's species</th>\n",
       "      <td>17.000000</td>\n",
       "    </tr>\n",
       "    <tr>\n",
       "      <th>Zabrak</th>\n",
       "      <td>40.000000</td>\n",
       "    </tr>\n",
       "  </tbody>\n",
       "</table>\n",
       "</div>"
      ],
      "text/plain": [
       "                       mass\n",
       "species                    \n",
       "Aleena            15.000000\n",
       "Besalisk         102.000000\n",
       "Cerean            82.000000\n",
       "Chagrian           0.000000\n",
       "Clawdite          55.000000\n",
       "Droid             46.500000\n",
       "Dug               40.000000\n",
       "Ewok              20.000000\n",
       "Geonosian         80.000000\n",
       "Gungan            49.333333\n",
       "Human             52.034286\n",
       "Hutt            1358.000000\n",
       "Iktotchi           0.000000\n",
       "Kaleesh          159.000000\n",
       "Kaminoan          44.000000\n",
       "Kel Dor           80.000000\n",
       "Mirialan          53.100000\n",
       "Mon Calamari      83.000000\n",
       "Muun               0.000000\n",
       "Nautolan          87.000000\n",
       "Neimodian         90.000000\n",
       "Pau'an            80.000000\n",
       "Quermian           0.000000\n",
       "Rodian            74.000000\n",
       "Skakoan           48.000000\n",
       "Sullustan         68.000000\n",
       "Tholothian        50.000000\n",
       "Togruta           57.000000\n",
       "Toong             65.000000\n",
       "Toydarian          0.000000\n",
       "Trandoshan       113.000000\n",
       "Twi'lek           27.500000\n",
       "Vulptereen        45.000000\n",
       "Wookiee          124.000000\n",
       "Xexto              0.000000\n",
       "Yoda's species    17.000000\n",
       "Zabrak            40.000000"
      ]
     },
     "execution_count": 92,
     "metadata": {},
     "output_type": "execute_result"
    }
   ],
   "source": [
    "# The average weight of species.\n",
    "weight = sw[['species', 'mass']].groupby(['species'], as_index = True).mean()\n",
    "weight"
   ]
  },
  {
   "cell_type": "code",
   "execution_count": 95,
   "id": "0de294e8",
   "metadata": {},
   "outputs": [
    {
     "data": {
      "image/png": "[encoded data removed]",
      "text/plain": [
       "<Figure size 576x396 with 1 Axes>"
      ]
     },
     "metadata": {},
     "output_type": "display_data"
    }
   ],
   "source": [
    "# TOP10 Species by mass.\n",
    "weight['mass'].sort_values(ascending = False).head(10).plot.bar(color='red')\n",
    "\n",
    "plt.xticks(rotation=45)\n",
    "plt.show()"
   ]
  },
  {
   "cell_type": "code",
   "execution_count": 98,
   "id": "7b85f264",
   "metadata": {},
   "outputs": [
    {
     "data": {
      "image/png": "[encoded data removed]",
      "text/plain": [
       "<Figure size 720x648 with 1 Axes>"
      ]
     },
     "metadata": {},
     "output_type": "display_data"
    }
   ],
   "source": [
    "f, ax = plt.subplots(1,1, figsize=(10,9))\n",
    "\n",
    "colors = sns.color_palette('hls',len(weight['mass']))\n",
    "g = weight['mass'].sort_values(ascending=False).plot.bar(color=colors)\n",
    "g.set_xticklabels(g.get_xticklabels(),rotation=90)\n",
    "\n",
    "plt.show()"
   ]
  },
  {
   "cell_type": "markdown",
   "id": "241b9488",
   "metadata": {},
   "source": [
    "### 4-5. The correlation with mass and height of characters in Starwars"
   ]
  },
  {
   "cell_type": "code",
   "execution_count": 101,
   "id": "d0e9b2d7",
   "metadata": {},
   "outputs": [
    {
     "name": "stderr",
     "output_type": "stream",
     "text": [
      "C:\\Users\\hyung\\AppData\\Local\\Temp\\ipykernel_10496\\2630734259.py:3: UserWarning: Boolean Series key will be reindexed to match DataFrame index.\n",
      "  swcorr = sw[~out1][~out2].shape\n"
     ]
    }
   ],
   "source": [
    "out1 = sw['species'].isin(['Hutt'])\n",
    "out2 = sw['mass'].isin(['0'])\n",
    "sw[~out1][~out2].shape"
   ]
  },
  {
   "cell_type": "code",
   "execution_count": 106,
   "id": "5457ab17",
   "metadata": {},
   "outputs": [
    {
     "name": "stderr",
     "output_type": "stream",
     "text": [
      "C:\\Users\\hyung\\AppData\\Local\\Temp\\ipykernel_10496\\3184772263.py:1: UserWarning: Boolean Series key will be reindexed to match DataFrame index.\n",
      "  sns.lmplot(data=sw[~out1][~out2], x='height', y ='mass', hue='gender')\n"
     ]
    },
    {
     "data": {
      "image/png": "[encoded data removed]",
      "text/plain": [
       "<Figure size 449.225x360 with 1 Axes>"
      ]
     },
     "metadata": {},
     "output_type": "display_data"
    }
   ],
   "source": [
    "sns.lmplot(data=sw[~out1][~out2], x='height', y ='mass', hue='gender')\n",
    "sns.set_style(style = 'darkgrid')\n",
    "\n",
    "plt.show()"
   ]
  },
  {
   "cell_type": "markdown",
   "id": "41ae5317",
   "metadata": {},
   "source": [
    "## 5.Review\n",
    "### Data:\n",
    "#### The total number of data:  957\n",
    "#### The total number of null values: 105 = It occupies 10.97% of the toal\n",
    "#### The number of people in Starwars:  87\n",
    "#### The number of species in Starwars:  37\n"
   ]
  },
  {
   "cell_type": "markdown",
   "id": "d848867a",
   "metadata": {},
   "source": [
    "#### The ratio of characters' gender in Starwars: male/masculine occupies 80%"
   ]
  },
  {
   "cell_type": "markdown",
   "id": "3c852843",
   "metadata": {},
   "source": [
    "### The distribution of characters' height in Starwars according to 'sex' & 'gender'.\n",
    "#### Men is taller than women and robot is smaller than man. "
   ]
  },
  {
   "cell_type": "markdown",
   "id": "b138e179",
   "metadata": {},
   "source": [
    "#### The mass of ['Ratts Tyerell'] is the most lightest as 15.0 \n",
    "#### The mass of ['Jabba Desilijic Tiure'] is the most heavist as 1358.0"
   ]
  },
  {
   "cell_type": "markdown",
   "id": "4937a5d1",
   "metadata": {},
   "source": [
    "### *Does have correlation with 'Height' and 'Mass' in Starwars?\n",
    "#### Yes, height and weight are usually proportional to each other."
   ]
  }
 ],
 "metadata": {
  "kernelspec": {
   "display_name": "Python 3 (ipykernel)",
   "language": "python",
   "name": "python3"
  },
  "language_info": {
   "codemirror_mode": {
    "name": "ipython",
    "version": 3
   },
   "file_extension": ".py",
   "mimetype": "text/x-python",
   "name": "python",
   "nbconvert_exporter": "python",
   "pygments_lexer": "ipython3",
   "version": "3.9.12"
  }
 },
 "nbformat": 4,
 "nbformat_minor": 5
}
